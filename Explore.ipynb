{
 "cells": [
  {
   "cell_type": "markdown",
   "metadata": {},
   "source": [
    "Repo: https://github.com/nytimes/covid-19-data\n",
    "<li> Calculate the total number of confirmed cases & deaths broken down by county for Connecticut\n",
    "<li> Given the data that you calculate, present that visually any way. Note this homework is not going to be judging on UX design"
   ]
  },
  {
   "cell_type": "code",
   "execution_count": 2,
   "metadata": {},
   "outputs": [
    {
     "data": {
      "text/plain": [
       "'\\n!pip install pandas \\n!pip install plotly==3.10.0\\n'"
      ]
     },
     "execution_count": 2,
     "metadata": {},
     "output_type": "execute_result"
    }
   ],
   "source": [
    "\"\"\"\n",
    "!pip install pandas \n",
    "!pip install plotly==3.10.0\n",
    "\"\"\""
   ]
  },
  {
   "cell_type": "code",
   "execution_count": 3,
   "metadata": {},
   "outputs": [],
   "source": [
    "# load libraries\n",
    "import pandas as pd\n",
    "import warnings\n",
    "warnings.filterwarnings('ignore')"
   ]
  },
  {
   "cell_type": "code",
   "execution_count": 4,
   "metadata": {},
   "outputs": [
    {
     "data": {
      "text/html": [
       "        <script type=\"text/javascript\">\n",
       "        window.PlotlyConfig = {MathJaxConfig: 'local'};\n",
       "        if (window.MathJax) {MathJax.Hub.Config({SVG: {font: \"STIX-Web\"}});}\n",
       "        if (typeof require !== 'undefined') {\n",
       "        require.undef(\"plotly\");\n",
       "        requirejs.config({\n",
       "            paths: {\n",
       "                'plotly': ['https://cdn.plot.ly/plotly-latest.min']\n",
       "            }\n",
       "        });\n",
       "        require(['plotly'], function(Plotly) {\n",
       "            window._Plotly = Plotly;\n",
       "        });\n",
       "        }\n",
       "        </script>\n",
       "        "
      ]
     },
     "metadata": {},
     "output_type": "display_data"
    }
   ],
   "source": [
    "# load visualization library\n",
    "import matplotlib.pyplot as plt\n",
    "import plotly.plotly as py\n",
    "import plotly.graph_objs as go\n",
    "from plotly.offline import init_notebook_mode, plot\n",
    "init_notebook_mode(connected=True)"
   ]
  },
  {
   "cell_type": "code",
   "execution_count": 5,
   "metadata": {},
   "outputs": [],
   "source": [
    "# load data\n",
    "df = pd.read_csv('data/us-counties.csv')\n",
    "\n",
    "# source: https://www2.census.gov/programs-surveys/popest/tables/2010-2019/counties/totals/co-est2019-annres-09.xlsx\n",
    "connecticut_population_data = {\n",
    "'Fairfield': 943332,\n",
    "'Hartford': 891720,\n",
    "'Litchfield': 180333,\n",
    "'Middlesex': 162436,\n",
    "'New Haven': 854757,\n",
    "'New London': 265206,\n",
    "'Tolland': 150721,\n",
    "'Windham': 116782,\n",
    "'Unknown': -1 # because of the unknown county in reported cases\n",
    "}"
   ]
  },
  {
   "cell_type": "code",
   "execution_count": 6,
   "metadata": {},
   "outputs": [
    {
     "data": {
      "text/html": [
       "<div>\n",
       "<style scoped>\n",
       "    .dataframe tbody tr th:only-of-type {\n",
       "        vertical-align: middle;\n",
       "    }\n",
       "\n",
       "    .dataframe tbody tr th {\n",
       "        vertical-align: top;\n",
       "    }\n",
       "\n",
       "    .dataframe thead th {\n",
       "        text-align: right;\n",
       "    }\n",
       "</style>\n",
       "<table border=\"1\" class=\"dataframe\">\n",
       "  <thead>\n",
       "    <tr style=\"text-align: right;\">\n",
       "      <th></th>\n",
       "      <th>date</th>\n",
       "      <th>county</th>\n",
       "      <th>state</th>\n",
       "      <th>fips</th>\n",
       "      <th>cases</th>\n",
       "      <th>deaths</th>\n",
       "    </tr>\n",
       "  </thead>\n",
       "  <tbody>\n",
       "    <tr>\n",
       "      <th>0</th>\n",
       "      <td>2020-01-21</td>\n",
       "      <td>Snohomish</td>\n",
       "      <td>Washington</td>\n",
       "      <td>53061.0</td>\n",
       "      <td>1</td>\n",
       "      <td>0</td>\n",
       "    </tr>\n",
       "    <tr>\n",
       "      <th>1</th>\n",
       "      <td>2020-01-22</td>\n",
       "      <td>Snohomish</td>\n",
       "      <td>Washington</td>\n",
       "      <td>53061.0</td>\n",
       "      <td>1</td>\n",
       "      <td>0</td>\n",
       "    </tr>\n",
       "    <tr>\n",
       "      <th>2</th>\n",
       "      <td>2020-01-23</td>\n",
       "      <td>Snohomish</td>\n",
       "      <td>Washington</td>\n",
       "      <td>53061.0</td>\n",
       "      <td>1</td>\n",
       "      <td>0</td>\n",
       "    </tr>\n",
       "    <tr>\n",
       "      <th>3</th>\n",
       "      <td>2020-01-24</td>\n",
       "      <td>Cook</td>\n",
       "      <td>Illinois</td>\n",
       "      <td>17031.0</td>\n",
       "      <td>1</td>\n",
       "      <td>0</td>\n",
       "    </tr>\n",
       "    <tr>\n",
       "      <th>4</th>\n",
       "      <td>2020-01-24</td>\n",
       "      <td>Snohomish</td>\n",
       "      <td>Washington</td>\n",
       "      <td>53061.0</td>\n",
       "      <td>1</td>\n",
       "      <td>0</td>\n",
       "    </tr>\n",
       "  </tbody>\n",
       "</table>\n",
       "</div>"
      ],
      "text/plain": [
       "         date     county       state     fips  cases  deaths\n",
       "0  2020-01-21  Snohomish  Washington  53061.0      1       0\n",
       "1  2020-01-22  Snohomish  Washington  53061.0      1       0\n",
       "2  2020-01-23  Snohomish  Washington  53061.0      1       0\n",
       "3  2020-01-24       Cook    Illinois  17031.0      1       0\n",
       "4  2020-01-24  Snohomish  Washington  53061.0      1       0"
      ]
     },
     "execution_count": 6,
     "metadata": {},
     "output_type": "execute_result"
    }
   ],
   "source": [
    "# peek through the data\n",
    "df.head()"
   ]
  },
  {
   "cell_type": "code",
   "execution_count": 7,
   "metadata": {},
   "outputs": [],
   "source": [
    "# filter out everything except Connecticut\n",
    "connecticut_df = df[df.state == 'Connecticut']"
   ]
  },
  {
   "cell_type": "code",
   "execution_count": 8,
   "metadata": {},
   "outputs": [],
   "source": [
    "# add population data to connecticut dataframe\n",
    "connecticut_df['population'] = connecticut_df.county.apply(lambda x: connecticut_population_data[x])"
   ]
  },
  {
   "cell_type": "code",
   "execution_count": 9,
   "metadata": {},
   "outputs": [
    {
     "data": {
      "text/html": [
       "<div>\n",
       "<style scoped>\n",
       "    .dataframe tbody tr th:only-of-type {\n",
       "        vertical-align: middle;\n",
       "    }\n",
       "\n",
       "    .dataframe tbody tr th {\n",
       "        vertical-align: top;\n",
       "    }\n",
       "\n",
       "    .dataframe thead th {\n",
       "        text-align: right;\n",
       "    }\n",
       "</style>\n",
       "<table border=\"1\" class=\"dataframe\">\n",
       "  <thead>\n",
       "    <tr style=\"text-align: right;\">\n",
       "      <th></th>\n",
       "      <th>date</th>\n",
       "      <th>county</th>\n",
       "      <th>state</th>\n",
       "      <th>fips</th>\n",
       "      <th>cases</th>\n",
       "      <th>deaths</th>\n",
       "      <th>population</th>\n",
       "    </tr>\n",
       "  </thead>\n",
       "  <tbody>\n",
       "    <tr>\n",
       "      <th>777</th>\n",
       "      <td>2020-03-08</td>\n",
       "      <td>Fairfield</td>\n",
       "      <td>Connecticut</td>\n",
       "      <td>9001.0</td>\n",
       "      <td>1</td>\n",
       "      <td>0</td>\n",
       "      <td>943332</td>\n",
       "    </tr>\n",
       "    <tr>\n",
       "      <th>894</th>\n",
       "      <td>2020-03-09</td>\n",
       "      <td>Fairfield</td>\n",
       "      <td>Connecticut</td>\n",
       "      <td>9001.0</td>\n",
       "      <td>2</td>\n",
       "      <td>0</td>\n",
       "      <td>943332</td>\n",
       "    </tr>\n",
       "    <tr>\n",
       "      <th>1029</th>\n",
       "      <td>2020-03-10</td>\n",
       "      <td>Fairfield</td>\n",
       "      <td>Connecticut</td>\n",
       "      <td>9001.0</td>\n",
       "      <td>2</td>\n",
       "      <td>0</td>\n",
       "      <td>943332</td>\n",
       "    </tr>\n",
       "  </tbody>\n",
       "</table>\n",
       "</div>"
      ],
      "text/plain": [
       "            date     county        state    fips  cases  deaths  population\n",
       "777   2020-03-08  Fairfield  Connecticut  9001.0      1       0      943332\n",
       "894   2020-03-09  Fairfield  Connecticut  9001.0      2       0      943332\n",
       "1029  2020-03-10  Fairfield  Connecticut  9001.0      2       0      943332"
      ]
     },
     "execution_count": 9,
     "metadata": {},
     "output_type": "execute_result"
    }
   ],
   "source": [
    "# peek \n",
    "connecticut_df.head(3)"
   ]
  },
  {
   "cell_type": "code",
   "execution_count": 10,
   "metadata": {},
   "outputs": [
    {
     "name": "stdout",
     "output_type": "stream",
     "text": [
      " Total number of records for Connecticut state: 251\n"
     ]
    }
   ],
   "source": [
    "print(f' Total number of records for Connecticut state: {connecticut_df.shape[0]}')"
   ]
  },
  {
   "cell_type": "code",
   "execution_count": 11,
   "metadata": {},
   "outputs": [
    {
     "name": "stdout",
     "output_type": "stream",
     "text": [
      "Number of days reported for each county:\n",
      "Fairfield     37\n",
      "Litchfield    33\n",
      "Hartford      31\n",
      "New Haven     31\n",
      "Middlesex     27\n",
      "Windham       26\n",
      "Tolland       26\n",
      "New London    25\n",
      "Unknown       15\n",
      "Name: county, dtype: int64\n"
     ]
    }
   ],
   "source": [
    "print(f'Number of days reported for each county:\\n{connecticut_df.county.value_counts()}')"
   ]
  },
  {
   "cell_type": "code",
   "execution_count": 12,
   "metadata": {},
   "outputs": [
    {
     "name": "stdout",
     "output_type": "stream",
     "text": [
      "First case in Connecticut reported in Fairfield county on 2020-03-08\n"
     ]
    }
   ],
   "source": [
    "first_case = connecticut_df[connecticut_df.date == connecticut_df.date.min()]\n",
    "print(f'First case in Connecticut reported in {first_case.county.values[0]} county on {first_case.date.values[0]}')"
   ]
  },
  {
   "cell_type": "code",
   "execution_count": 13,
   "metadata": {},
   "outputs": [
    {
     "data": {
      "text/plain": [
       "date           object\n",
       "county         object\n",
       "fips          float64\n",
       "cases           int64\n",
       "deaths          int64\n",
       "population      int64\n",
       "dtype: object"
      ]
     },
     "execution_count": 13,
     "metadata": {},
     "output_type": "execute_result"
    }
   ],
   "source": [
    "# reset index\n",
    "connecticut_df.reset_index(inplace=True)\n",
    "\n",
    "# drop state & old index we don't need it\n",
    "connecticut_df.drop(columns=['state', 'index'], inplace=True)\n",
    "\n",
    "# check data types\n",
    "connecticut_df.dtypes"
   ]
  },
  {
   "cell_type": "code",
   "execution_count": 14,
   "metadata": {},
   "outputs": [
    {
     "data": {
      "text/plain": [
       "date           0\n",
       "county         0\n",
       "fips          15\n",
       "cases          0\n",
       "deaths         0\n",
       "population     0\n",
       "dtype: int64"
      ]
     },
     "execution_count": 14,
     "metadata": {},
     "output_type": "execute_result"
    }
   ],
   "source": [
    "# No NaNs except fips code for UNKNOWN county\n",
    "connecticut_df.isna().sum()"
   ]
  },
  {
   "cell_type": "markdown",
   "metadata": {},
   "source": [
    "### Total Number of Confirmed Cases & Deaths by County "
   ]
  },
  {
   "cell_type": "code",
   "execution_count": 15,
   "metadata": {},
   "outputs": [
    {
     "data": {
      "text/html": [
       "<div>\n",
       "<style scoped>\n",
       "    .dataframe tbody tr th:only-of-type {\n",
       "        vertical-align: middle;\n",
       "    }\n",
       "\n",
       "    .dataframe tbody tr th {\n",
       "        vertical-align: top;\n",
       "    }\n",
       "\n",
       "    .dataframe thead th {\n",
       "        text-align: right;\n",
       "    }\n",
       "</style>\n",
       "<table border=\"1\" class=\"dataframe\">\n",
       "  <thead>\n",
       "    <tr style=\"text-align: right;\">\n",
       "      <th></th>\n",
       "      <th>cases</th>\n",
       "      <th>deaths</th>\n",
       "    </tr>\n",
       "    <tr>\n",
       "      <th>county</th>\n",
       "      <th></th>\n",
       "      <th></th>\n",
       "    </tr>\n",
       "  </thead>\n",
       "  <tbody>\n",
       "    <tr>\n",
       "      <th>Fairfield</th>\n",
       "      <td>6004</td>\n",
       "      <td>262</td>\n",
       "    </tr>\n",
       "    <tr>\n",
       "      <th>New Haven</th>\n",
       "      <td>3358</td>\n",
       "      <td>135</td>\n",
       "    </tr>\n",
       "    <tr>\n",
       "      <th>Hartford</th>\n",
       "      <td>2243</td>\n",
       "      <td>133</td>\n",
       "    </tr>\n",
       "    <tr>\n",
       "      <th>Unknown</th>\n",
       "      <td>501</td>\n",
       "      <td>5</td>\n",
       "    </tr>\n",
       "    <tr>\n",
       "      <th>Litchfield</th>\n",
       "      <td>446</td>\n",
       "      <td>24</td>\n",
       "    </tr>\n",
       "    <tr>\n",
       "      <th>Middlesex</th>\n",
       "      <td>339</td>\n",
       "      <td>19</td>\n",
       "    </tr>\n",
       "    <tr>\n",
       "      <th>New London</th>\n",
       "      <td>222</td>\n",
       "      <td>7</td>\n",
       "    </tr>\n",
       "    <tr>\n",
       "      <th>Tolland</th>\n",
       "      <td>195</td>\n",
       "      <td>17</td>\n",
       "    </tr>\n",
       "    <tr>\n",
       "      <th>Windham</th>\n",
       "      <td>83</td>\n",
       "      <td>1</td>\n",
       "    </tr>\n",
       "  </tbody>\n",
       "</table>\n",
       "</div>"
      ],
      "text/plain": [
       "            cases  deaths\n",
       "county                   \n",
       "Fairfield    6004     262\n",
       "New Haven    3358     135\n",
       "Hartford     2243     133\n",
       "Unknown       501       5\n",
       "Litchfield    446      24\n",
       "Middlesex     339      19\n",
       "New London    222       7\n",
       "Tolland       195      17\n",
       "Windham        83       1"
      ]
     },
     "execution_count": 15,
     "metadata": {},
     "output_type": "execute_result"
    }
   ],
   "source": [
    "aggregated_df = connecticut_df[['county', 'cases', 'deaths']].groupby(['county']).max()\n",
    "\n",
    "# sort the data frame by cases inplace ascendng order\n",
    "aggregated_df.sort_values(by=['cases'], inplace=True, ascending=False)\n",
    "\n",
    "aggregated_df"
   ]
  },
  {
   "cell_type": "code",
   "execution_count": 16,
   "metadata": {},
   "outputs": [
    {
     "data": {
      "text/html": [
       "<div>\n",
       "<style scoped>\n",
       "    .dataframe tbody tr th:only-of-type {\n",
       "        vertical-align: middle;\n",
       "    }\n",
       "\n",
       "    .dataframe tbody tr th {\n",
       "        vertical-align: top;\n",
       "    }\n",
       "\n",
       "    .dataframe thead th {\n",
       "        text-align: right;\n",
       "    }\n",
       "</style>\n",
       "<table border=\"1\" class=\"dataframe\">\n",
       "  <thead>\n",
       "    <tr style=\"text-align: right;\">\n",
       "      <th></th>\n",
       "      <th>cases</th>\n",
       "      <th>population</th>\n",
       "      <th>deaths</th>\n",
       "    </tr>\n",
       "    <tr>\n",
       "      <th>county</th>\n",
       "      <th></th>\n",
       "      <th></th>\n",
       "      <th></th>\n",
       "    </tr>\n",
       "  </thead>\n",
       "  <tbody>\n",
       "    <tr>\n",
       "      <th>Fairfield</th>\n",
       "      <td>6004.0</td>\n",
       "      <td>943332.0</td>\n",
       "      <td>262.0</td>\n",
       "    </tr>\n",
       "    <tr>\n",
       "      <th>New Haven</th>\n",
       "      <td>3358.0</td>\n",
       "      <td>854757.0</td>\n",
       "      <td>135.0</td>\n",
       "    </tr>\n",
       "    <tr>\n",
       "      <th>Hartford</th>\n",
       "      <td>2243.0</td>\n",
       "      <td>891720.0</td>\n",
       "      <td>133.0</td>\n",
       "    </tr>\n",
       "    <tr>\n",
       "      <th>Litchfield</th>\n",
       "      <td>446.0</td>\n",
       "      <td>180333.0</td>\n",
       "      <td>24.0</td>\n",
       "    </tr>\n",
       "    <tr>\n",
       "      <th>Middlesex</th>\n",
       "      <td>339.0</td>\n",
       "      <td>162436.0</td>\n",
       "      <td>19.0</td>\n",
       "    </tr>\n",
       "    <tr>\n",
       "      <th>New London</th>\n",
       "      <td>222.0</td>\n",
       "      <td>265206.0</td>\n",
       "      <td>7.0</td>\n",
       "    </tr>\n",
       "    <tr>\n",
       "      <th>Tolland</th>\n",
       "      <td>195.0</td>\n",
       "      <td>150721.0</td>\n",
       "      <td>17.0</td>\n",
       "    </tr>\n",
       "    <tr>\n",
       "      <th>Windham</th>\n",
       "      <td>83.0</td>\n",
       "      <td>116782.0</td>\n",
       "      <td>1.0</td>\n",
       "    </tr>\n",
       "  </tbody>\n",
       "</table>\n",
       "</div>"
      ],
      "text/plain": [
       "             cases  population  deaths\n",
       "county                                \n",
       "Fairfield   6004.0    943332.0   262.0\n",
       "New Haven   3358.0    854757.0   135.0\n",
       "Hartford    2243.0    891720.0   133.0\n",
       "Litchfield   446.0    180333.0    24.0\n",
       "Middlesex    339.0    162436.0    19.0\n",
       "New London   222.0    265206.0     7.0\n",
       "Tolland      195.0    150721.0    17.0\n",
       "Windham       83.0    116782.0     1.0"
      ]
     },
     "execution_count": 16,
     "metadata": {},
     "output_type": "execute_result"
    }
   ],
   "source": [
    "# grouped counties, removed unknown and sorted by cases\n",
    "connecticut_df[['county', 'cases', 'population', 'deaths']].groupby(['county']).max().where(lambda x: x.population>0).dropna().sort_values(['cases'], ascending=False)"
   ]
  },
  {
   "cell_type": "markdown",
   "metadata": {},
   "source": [
    "#### Cases/Deaths and Population are directly proportional. Makes Sense!"
   ]
  },
  {
   "cell_type": "markdown",
   "metadata": {},
   "source": [
    "### Visualize aggregated data"
   ]
  },
  {
   "cell_type": "code",
   "execution_count": 17,
   "metadata": {},
   "outputs": [
    {
     "data": {
      "text/plain": [
       "<Figure size 432x288 with 0 Axes>"
      ]
     },
     "metadata": {},
     "output_type": "display_data"
    },
    {
     "data": {
      "image/png": "[encoded data removed]",
      "text/plain": [
       "<Figure size 864x864 with 1 Axes>"
      ]
     },
     "metadata": {
      "needs_background": "light"
     },
     "output_type": "display_data"
    }
   ],
   "source": [
    "fig = plt.figure()\n",
    "aggregated_df.plot.bar(figsize=(12,12))\n",
    "plt.xlabel(\"County\", fontsize=25)\n",
    "plt.ylabel(\"Number of Cases/Deaths\", fontsize=25)\n",
    "plt.xticks(fontsize=15)\n",
    "plt.yticks(fontsize=15)\n",
    "plt.title(\"Plot showing confirmed cases and deaths for Connecticut Counties\", fontsize=15)\n",
    "plt.legend(fontsize=15)\n",
    "plt.show()"
   ]
  },
  {
   "cell_type": "markdown",
   "metadata": {},
   "source": [
    "### Analysis for per 0.1M of popupulation"
   ]
  },
  {
   "cell_type": "code",
   "execution_count": 18,
   "metadata": {},
   "outputs": [],
   "source": [
    "agg_df_v2 = connecticut_df[['county', 'cases', 'population', 'deaths']].groupby(['county']).max().where(lambda x: x.population>0).dropna().sort_values(['cases'], ascending=False)"
   ]
  },
  {
   "cell_type": "code",
   "execution_count": 19,
   "metadata": {},
   "outputs": [
    {
     "data": {
      "text/html": [
       "<div>\n",
       "<style scoped>\n",
       "    .dataframe tbody tr th:only-of-type {\n",
       "        vertical-align: middle;\n",
       "    }\n",
       "\n",
       "    .dataframe tbody tr th {\n",
       "        vertical-align: top;\n",
       "    }\n",
       "\n",
       "    .dataframe thead th {\n",
       "        text-align: right;\n",
       "    }\n",
       "</style>\n",
       "<table border=\"1\" class=\"dataframe\">\n",
       "  <thead>\n",
       "    <tr style=\"text-align: right;\">\n",
       "      <th></th>\n",
       "      <th>cases</th>\n",
       "      <th>population</th>\n",
       "      <th>deaths</th>\n",
       "      <th>cases per 0.1M</th>\n",
       "      <th>deaths per 0.1M</th>\n",
       "    </tr>\n",
       "    <tr>\n",
       "      <th>county</th>\n",
       "      <th></th>\n",
       "      <th></th>\n",
       "      <th></th>\n",
       "      <th></th>\n",
       "      <th></th>\n",
       "    </tr>\n",
       "  </thead>\n",
       "  <tbody>\n",
       "    <tr>\n",
       "      <th>Fairfield</th>\n",
       "      <td>6004.0</td>\n",
       "      <td>943332.0</td>\n",
       "      <td>262.0</td>\n",
       "      <td>636</td>\n",
       "      <td>28</td>\n",
       "    </tr>\n",
       "    <tr>\n",
       "      <th>New Haven</th>\n",
       "      <td>3358.0</td>\n",
       "      <td>854757.0</td>\n",
       "      <td>135.0</td>\n",
       "      <td>393</td>\n",
       "      <td>16</td>\n",
       "    </tr>\n",
       "    <tr>\n",
       "      <th>Hartford</th>\n",
       "      <td>2243.0</td>\n",
       "      <td>891720.0</td>\n",
       "      <td>133.0</td>\n",
       "      <td>252</td>\n",
       "      <td>15</td>\n",
       "    </tr>\n",
       "    <tr>\n",
       "      <th>Litchfield</th>\n",
       "      <td>446.0</td>\n",
       "      <td>180333.0</td>\n",
       "      <td>24.0</td>\n",
       "      <td>247</td>\n",
       "      <td>13</td>\n",
       "    </tr>\n",
       "    <tr>\n",
       "      <th>Middlesex</th>\n",
       "      <td>339.0</td>\n",
       "      <td>162436.0</td>\n",
       "      <td>19.0</td>\n",
       "      <td>209</td>\n",
       "      <td>12</td>\n",
       "    </tr>\n",
       "    <tr>\n",
       "      <th>New London</th>\n",
       "      <td>222.0</td>\n",
       "      <td>265206.0</td>\n",
       "      <td>7.0</td>\n",
       "      <td>84</td>\n",
       "      <td>3</td>\n",
       "    </tr>\n",
       "    <tr>\n",
       "      <th>Tolland</th>\n",
       "      <td>195.0</td>\n",
       "      <td>150721.0</td>\n",
       "      <td>17.0</td>\n",
       "      <td>129</td>\n",
       "      <td>11</td>\n",
       "    </tr>\n",
       "    <tr>\n",
       "      <th>Windham</th>\n",
       "      <td>83.0</td>\n",
       "      <td>116782.0</td>\n",
       "      <td>1.0</td>\n",
       "      <td>71</td>\n",
       "      <td>1</td>\n",
       "    </tr>\n",
       "  </tbody>\n",
       "</table>\n",
       "</div>"
      ],
      "text/plain": [
       "             cases  population  deaths  cases per 0.1M  deaths per 0.1M\n",
       "county                                                                 \n",
       "Fairfield   6004.0    943332.0   262.0             636               28\n",
       "New Haven   3358.0    854757.0   135.0             393               16\n",
       "Hartford    2243.0    891720.0   133.0             252               15\n",
       "Litchfield   446.0    180333.0    24.0             247               13\n",
       "Middlesex    339.0    162436.0    19.0             209               12\n",
       "New London   222.0    265206.0     7.0              84                3\n",
       "Tolland      195.0    150721.0    17.0             129               11\n",
       "Windham       83.0    116782.0     1.0              71                1"
      ]
     },
     "execution_count": 19,
     "metadata": {},
     "output_type": "execute_result"
    }
   ],
   "source": [
    "# calculate cases and deaths per 100000 of population\n",
    "agg_df_v2['cases per 0.1M'] = round((100000 * agg_df_v2['cases'])/agg_df_v2['population'])\n",
    "agg_df_v2['deaths per 0.1M'] = round((100000 * agg_df_v2['deaths'])/agg_df_v2['population'])\n",
    "\n",
    "# change types of both columns to int32\n",
    "agg_df_v2 = agg_df_v2.astype({'cases per 0.1M': 'int32', 'deaths per 0.1M': 'int32'})\n",
    "agg_df_v2"
   ]
  },
  {
   "cell_type": "markdown",
   "metadata": {},
   "source": [
    "### Visualize cases & deaths per 0.1M"
   ]
  },
  {
   "cell_type": "code",
   "execution_count": 20,
   "metadata": {},
   "outputs": [
    {
     "data": {
      "text/plain": [
       "<Figure size 432x288 with 0 Axes>"
      ]
     },
     "metadata": {},
     "output_type": "display_data"
    },
    {
     "data": {
      "image/png": "[encoded data removed]",
      "text/plain": [
       "<Figure size 864x864 with 1 Axes>"
      ]
     },
     "metadata": {
      "needs_background": "light"
     },
     "output_type": "display_data"
    }
   ],
   "source": [
    "fig = plt.figure()\n",
    "agg_df_v2[['cases per 0.1M', 'deaths per 0.1M']].plot.bar(figsize=(12,12))\n",
    "plt.xlabel(\"County\", fontsize=25)\n",
    "plt.ylabel(\"Number of Cases\", fontsize=25)\n",
    "plt.xticks(fontsize=15)\n",
    "plt.yticks(fontsize=15)\n",
    "plt.title(\"Plot showing confirmed cases and deaths for Connecticut Counties per 0.1 Million of population\", fontsize=15)\n",
    "plt.legend(fontsize=15)\n",
    "plt.show()"
   ]
  },
  {
   "cell_type": "markdown",
   "metadata": {},
   "source": [
    "### Summary\n",
    "1. Fairfield has highest number of confirmed cases and deaths.\n",
    "2. Windham has lowest number of confirmed cases and deaths.\n",
    "3. Population and cases are almost directly proportional"
   ]
  },
  {
   "cell_type": "markdown",
   "metadata": {},
   "source": [
    "## Interactive Plotly Plots "
   ]
  },
  {
   "cell_type": "code",
   "execution_count": 21,
   "metadata": {},
   "outputs": [],
   "source": [
    "\n",
    "layout_bar = go.Layout(dict(\n",
    "    title='Bar Plot Showing Total Cases & Deaths in Connecticut Counties',\n",
    "    titlefont= dict(size=20),\n",
    "    xaxis=dict(\n",
    "        title= \"County\",\n",
    "        titlefont= dict( \n",
    "        size = 20\n",
    "        ),\n",
    "        tickfont = dict(size=15)\n",
    "    ),\n",
    "\n",
    "    yaxis1=dict(\n",
    "        title='Count',\n",
    "        titlefont= dict( \n",
    "        size = 20\n",
    "        ),\n",
    "        tickfont = dict(size=15)\n",
    "    ),\n",
    "))\n",
    "\n",
    "\n",
    "figp = go.Figure(data=[\n",
    "    go.Bar(name='Cases', x=aggregated_df.index, y=aggregated_df.cases),\n",
    "    go.Bar(name='Deaths', x=aggregated_df.index, y=aggregated_df.deaths)\n",
    "],\n",
    "layout=layout_bar)"
   ]
  },
  {
   "cell_type": "code",
   "execution_count": 22,
   "metadata": {},
   "outputs": [
    {
     "data": {
      "text/plain": [
       "'bar_plot_cases_deaths.html'"
      ]
     },
     "execution_count": 22,
     "metadata": {},
     "output_type": "execute_result"
    }
   ],
   "source": [
    "plot(figp, filename='bar_plot_cases_deaths.html')"
   ]
  },
  {
   "cell_type": "markdown",
   "metadata": {},
   "source": [
    "## Interactive Line Charts Showing All Counties Cases and Deaths in Single plot"
   ]
  },
  {
   "cell_type": "code",
   "execution_count": 23,
   "metadata": {},
   "outputs": [],
   "source": [
    "import numpy as np"
   ]
  },
  {
   "cell_type": "code",
   "execution_count": 24,
   "metadata": {},
   "outputs": [],
   "source": [
    "all_plots = []\n",
    "for ind, county in enumerate(connecticut_df.county.unique()):\n",
    "    tmp = connecticut_df[connecticut_df.county==county]\n",
    "    tmp.index = pd.to_datetime(tmp.date)\n",
    "    cases_line_plots = go.Scatter(\n",
    "        name=county +' Cases',\n",
    "        x=tmp.index,\n",
    "        y=tmp.cases.values,\n",
    "        line = dict(color = 'green'),\n",
    "        mode='lines+markers',\n",
    "        opacity = 0.5,\n",
    "        visible = 'legendonly',\n",
    "        legendgroup=\"group\"+str(ind)\n",
    "    )\n",
    "    deaths_dotted_line_plots = go.Scatter(\n",
    "        name=county+' Deaths',\n",
    "        x=tmp.index,\n",
    "        y=tmp.deaths,\n",
    "        line=dict(color = 'red', dash='dot'),\n",
    "        mode='lines+markers',\n",
    "        visible = 'legendonly',\n",
    "        legendgroup=\"group\"+str(ind)\n",
    "    )\n",
    "    all_plots.append(cases_line_plots)\n",
    "    all_plots.append(deaths_dotted_line_plots)"
   ]
  },
  {
   "cell_type": "code",
   "execution_count": 25,
   "metadata": {},
   "outputs": [],
   "source": [
    "layout_line_chart = go.Layout(dict(\n",
    "    title='Line Charts Showing Total Cases & Deaths in Connecticut Counties \\n *(click on the legend on the right to select the county)',\n",
    "    titlefont= dict(size=20),\n",
    "    xaxis=dict(\n",
    "        title= \"Date\",\n",
    "        titlefont= dict( \n",
    "        size = 20\n",
    "        ),\n",
    "        tickfont = dict(size=15)\n",
    "    ),\n",
    "\n",
    "    yaxis1=dict(\n",
    "        title='Count',\n",
    "        titlefont= dict( \n",
    "        size = 20\n",
    "        ),\n",
    "        tickfont = dict(size=15)\n",
    "    ),\n",
    "))\n",
    "\n",
    "all_plots[0].visible = True\n",
    "all_plots[1].visible = True  # make one county data visible on plot\n",
    "fig_line_chart = go.Figure(data=all_plots, layout=layout_line_chart)"
   ]
  },
  {
   "cell_type": "code",
   "execution_count": 26,
   "metadata": {},
   "outputs": [
    {
     "data": {
      "text/plain": [
       "'line_chart_for_all_counties_cases_deaths.html'"
      ]
     },
     "execution_count": 26,
     "metadata": {},
     "output_type": "execute_result"
    }
   ],
   "source": [
    "plot(fig_line_chart, filename='line_chart_for_all_counties_cases_deaths.html')"
   ]
  },
  {
   "cell_type": "code",
   "execution_count": null,
   "metadata": {},
   "outputs": [],
   "source": []
  },
  {
   "cell_type": "code",
   "execution_count": null,
   "metadata": {},
   "outputs": [],
   "source": []
  },
  {
   "cell_type": "markdown",
   "metadata": {},
   "source": [
    "# Extra Analysis"
   ]
  },
  {
   "cell_type": "markdown",
   "metadata": {},
   "source": [
    "### Percent Change in Growth"
   ]
  },
  {
   "cell_type": "code",
   "execution_count": 27,
   "metadata": {},
   "outputs": [],
   "source": [
    "connecticut_df = df[df.state == 'Connecticut']\n",
    "all_plots_growth = []\n",
    "for ind, county in enumerate(connecticut_df.county.unique()):\n",
    "    tmp = connecticut_df[connecticut_df.county==county]\n",
    "    percentage_bar_plot = go.Bar(\n",
    "        name=county,\n",
    "        y=tmp.cases.pct_change().values * 100,\n",
    "        x=tmp.date.values,\n",
    "        opacity = 0.5,\n",
    "        visible = \"legendonly\"\n",
    "    )\n",
    "    all_plots_growth.append(percentage_bar_plot)"
   ]
  },
  {
   "cell_type": "code",
   "execution_count": 28,
   "metadata": {},
   "outputs": [],
   "source": [
    "layout_bar_growth = go.Layout(dict(\n",
    "    title='Bar Plot Showing Cases Percentage Growth in Connecticut Counties  *(choose county from the legend)',\n",
    "    titlefont= dict(size=20),\n",
    "    xaxis=dict(\n",
    "        title= \"Date\",\n",
    "        titlefont= dict(size = 20),\n",
    "        tickfont = dict(size=15)\n",
    "    ),\n",
    "\n",
    "    yaxis1=dict(\n",
    "        title='Percentage',\n",
    "        titlefont= dict(size = 20),\n",
    "        tickfont = dict(size=15)\n",
    "    ),\n",
    "))\n",
    "\n",
    "all_plots_growth[0].visible = True\n",
    "fig_growth_bar = go.Figure(data= all_plots_growth,\n",
    "layout=layout_bar_growth\n",
    ")"
   ]
  },
  {
   "cell_type": "code",
   "execution_count": 29,
   "metadata": {},
   "outputs": [
    {
     "data": {
      "text/plain": [
       "'Percentage_Change_Growth_All_Counties.html'"
      ]
     },
     "execution_count": 29,
     "metadata": {},
     "output_type": "execute_result"
    }
   ],
   "source": [
    "plot(fig_growth_bar, filename='Percentage_Change_Growth_All_Counties.html')"
   ]
  },
  {
   "cell_type": "markdown",
   "metadata": {},
   "source": [
    "### Logarithm Graphs"
   ]
  },
  {
   "cell_type": "code",
   "execution_count": 30,
   "metadata": {},
   "outputs": [],
   "source": [
    "connecticut_df = df[df.state == 'Connecticut']\n",
    "all_plots_log = []\n",
    "for ind, county in enumerate(connecticut_df.county.unique()):\n",
    "    tmp = connecticut_df[connecticut_df.county==county]\n",
    "    tmp.index = pd.to_datetime(tmp.date)\n",
    "    cases_line_plots_log = go.Scatter(\n",
    "        name=county +' Cases',\n",
    "        x=tmp.index,\n",
    "        y=np.log2(tmp.cases.values),\n",
    "        mode='lines+markers',\n",
    "        opacity = 0.5,\n",
    "        visible = 'legendonly',\n",
    "        legendgroup=\"group\"+str(ind)\n",
    "    )\n",
    "    all_plots_log.append(cases_line_plots_log)"
   ]
  },
  {
   "cell_type": "code",
   "execution_count": 31,
   "metadata": {},
   "outputs": [],
   "source": [
    "layout_log = go.Layout(dict(\n",
    "    title='Line Charts Showing Log Curve for Cases in Connecticut Counties  *(choose county from the legend)',\n",
    "    titlefont= dict(size=20),\n",
    "    xaxis=dict(\n",
    "        title= \"County\",\n",
    "        titlefont= dict(size = 20),\n",
    "        tickfont = dict(size=15)\n",
    "    ),\n",
    "\n",
    "    yaxis1=dict(\n",
    "        title='Cases',\n",
    "        titlefont= dict(size = 20),\n",
    "        tickfont = dict(size=15)\n",
    "    ),\n",
    "))\n",
    "\n",
    "all_plots_log[0].visible = True\n",
    "fig_growth_log = go.Figure(data= all_plots_log,\n",
    "layout=layout_log\n",
    ")"
   ]
  },
  {
   "cell_type": "code",
   "execution_count": 32,
   "metadata": {},
   "outputs": [
    {
     "data": {
      "text/plain": [
       "'Log_All_Counties.html'"
      ]
     },
     "execution_count": 32,
     "metadata": {},
     "output_type": "execute_result"
    }
   ],
   "source": [
    "plot(fig_growth_log, filename='Log_All_Counties.html')"
   ]
  },
  {
   "cell_type": "code",
   "execution_count": null,
   "metadata": {},
   "outputs": [],
   "source": []
  }
 ],
 "metadata": {
  "kernelspec": {
   "display_name": "Python 3",
   "language": "python",
   "name": "python3"
  },
  "language_info": {
   "codemirror_mode": {
    "name": "ipython",
    "version": 3
   },
   "file_extension": ".py",
   "mimetype": "text/x-python",
   "name": "python",
   "nbconvert_exporter": "python",
   "pygments_lexer": "ipython3",
   "version": "3.7.7"
  }
 },
 "nbformat": 4,
 "nbformat_minor": 4
}
